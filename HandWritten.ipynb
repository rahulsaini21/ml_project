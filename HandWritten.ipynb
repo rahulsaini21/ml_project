{
 "cells": [
  {
   "cell_type": "code",
   "execution_count": 163,
   "id": "2bea096b",
   "metadata": {},
   "outputs": [],
   "source": [
    "import numpy as np\n",
    "import pandas as pd\n",
    "import matplotlib.pyplot as plt\n",
    "import random"
   ]
  },
  {
   "cell_type": "code",
   "execution_count": 164,
   "id": "e95feb9a",
   "metadata": {},
   "outputs": [],
   "source": [
    "X_train = pd.read_csv('dataset//train_X.csv')\n",
    "Y_train = pd.read_csv('dataset//train_label.csv')\n",
    "X_test = pd.read_csv('dataset//test_X.csv')\n",
    "Y_test = pd.read_csv('dataset//test_label.csv')"
   ]
  },
  {
   "cell_type": "code",
   "execution_count": 165,
   "id": "84a93bb0",
   "metadata": {},
   "outputs": [],
   "source": [
    "X_train = X_train.values\n",
    "Y_train = Y_train.values\n",
    "X_test = X_test.values\n",
    "Y_test = Y_test.values"
   ]
  },
  {
   "cell_type": "code",
   "execution_count": 166,
   "id": "c47b791c",
   "metadata": {},
   "outputs": [
    {
     "name": "stdout",
     "output_type": "stream",
     "text": [
      "(999, 784)\n",
      "(999, 10)\n",
      "(349, 784)\n",
      "(349, 10)\n"
     ]
    }
   ],
   "source": [
    "print(X_train.shape)\n",
    "print(Y_train.shape)\n",
    "print(X_test.shape)\n",
    "print(Y_test.shape)"
   ]
  },
  {
   "cell_type": "code",
   "execution_count": 167,
   "id": "92b5b956",
   "metadata": {},
   "outputs": [
    {
     "data": {
      "text/plain": [
       "<matplotlib.image.AxesImage at 0x296e2489640>"
      ]
     },
     "execution_count": 167,
     "metadata": {},
     "output_type": "execute_result"
    },
    {
     "data": {
      "image/png": "[encoded data removed]",
      "text/plain": [
       "<Figure size 640x480 with 1 Axes>"
      ]
     },
     "metadata": {},
     "output_type": "display_data"
    }
   ],
   "source": [
    "index = random.randint(0, X_train.shape[0])\n",
    "index\n",
    "plt.imshow(X_train[index, :].reshape(28,28), cmap = 'gray')"
   ]
  },
  {
   "cell_type": "code",
   "execution_count": 168,
   "id": "6f1efa3f",
   "metadata": {},
   "outputs": [],
   "source": [
    "def tanh(x):\n",
    "    return np.tanh(x)\n",
    "\n",
    "def relu(x):\n",
    "    return np.maximum(x,0)\n",
    "\n",
    "def softmax(x):\n",
    "    expX = np.exp(x)\n",
    "    return expX/np.sum(expX, axis = 1, keepdims = True)"
   ]
  },
  {
   "cell_type": "code",
   "execution_count": 169,
   "id": "1f8f07a5",
   "metadata": {},
   "outputs": [],
   "source": [
    "def derivative_tanh(x):\n",
    "    return (1 -  np.power(np.tanh(x), 2))\n",
    "\n",
    "def derivative_relu(x):\n",
    "    return np.array( x>0, dtype = np.float32)"
   ]
  },
  {
   "cell_type": "code",
   "execution_count": 177,
   "id": "faa6f558",
   "metadata": {},
   "outputs": [],
   "source": [
    "def initial(n_x, n_h, n_y):\n",
    "    w1 = np.random.randn(n_x, n_h)*0.01\n",
    "    b1 = np.zeros((1,n_h))\n",
    "    \n",
    "    w2 = np.random.randn(n_h, n_y)*0.01\n",
    "    b2 = np.zeros((1,n_y))\n",
    "    return w1,b1, w2, b2"
   ]
  },
  {
   "cell_type": "code",
   "execution_count": 178,
   "id": "e9dcc494",
   "metadata": {},
   "outputs": [],
   "source": [
    "def forward(X, Y, w1, b1, w2, b2):\n",
    "    m = X.shape[0]\n",
    "    n = X.shape[1]\n",
    "    \n",
    "\n",
    "    z1 = np.dot(X, w1)+b1\n",
    "    a1 = tanh(z1)\n",
    "    \n",
    "    z2 = np.dot(a1, w2)+b2\n",
    "    a2 = softmax(z2)\n",
    "    \n",
    "    return z1,a1,z2,a2\n",
    "    \n",
    "    "
   ]
  },
  {
   "cell_type": "code",
   "execution_count": 179,
   "id": "4396fab8",
   "metadata": {},
   "outputs": [],
   "source": [
    "def cost_fun(a2,y):\n",
    "    m = y.shape[0]\n",
    "    \n",
    "    cost = -(1/m)*np.sum(y*np.log(a2))\n",
    "    \n",
    "    return cost"
   ]
  },
  {
   "cell_type": "code",
   "execution_count": 180,
   "id": "dfd77082",
   "metadata": {},
   "outputs": [],
   "source": [
    "def backward_prop(X, Y,w1,b1, w2,b2, learning_rate):\n",
    "    \n",
    "    z1,a1,z2,a2 = forward(X, Y, w1,b1, w2,b2)\n",
    "    \n",
    "    cost = cost_fun(a2, Y)\n",
    "    \n",
    "    m = X.shape[0]\n",
    "    \n",
    "    dz2 = (a2-Y)   #(m, n2)\n",
    "    dw2 = (1/m)*np.dot(a1.T, dz2)   #(n1, n2)\n",
    "    db2 = (1/m)*np.sum(dz2, axis = 0, keepdims = True)  #(1, n2)    \n",
    "    \n",
    "    dz1 = (1/m)*np.dot(dz2, w2.T)*derivative_relu(a1)  #(m,n1)*(m,n1)\n",
    "    dw1 = (1/m)*np.dot(X.T, dz1) #(n0, n1)\n",
    "    db1 = (1/m)*np.sum(dz1, axis = 0,keepdims = True) #(1,n1)\n",
    "    \n",
    "    w1 = w1 - learning_rate*dw1\n",
    "    b1 = b1 - learning_rate*db1\n",
    "    w2 = w2 - learning_rate*dw2\n",
    "    b2 = b2 - learning_rate*db2\n",
    "    \n",
    "    return w1, b2, w2, b2, cost\n",
    "    \n",
    "    "
   ]
  },
  {
   "cell_type": "code",
   "execution_count": null,
   "id": "cdd7c0b2",
   "metadata": {},
   "outputs": [],
   "source": [
    "\n"
   ]
  },
  {
   "cell_type": "code",
   "execution_count": 181,
   "id": "cf9c4599",
   "metadata": {},
   "outputs": [],
   "source": [
    "def model(X, Y, iteration, n_h, alpha):\n",
    "    n = X.shape[1]\n",
    "    w1,b1, w2,b2 = initial(n, n_h, Y.shape[1])\n",
    "    cost_list = []\n",
    "    \n",
    "    \n",
    "    for i in range(iteration):\n",
    "        w1, b2, w2, b2, cost = backward_prop(X, Y, w1,b1, w2,b2, alpha)\n",
    "        cost_list.append(cost)\n",
    "        \n",
    "        if(i%(iterations/10) == 0):\n",
    "            print(\"Cost after\", i, \"iterations is :\", cost)\n",
    "            \n",
    "    return w1,b1, w2,b2, cost_list\n",
    "    "
   ]
  },
  {
   "cell_type": "code",
   "execution_count": 184,
   "id": "b465102e",
   "metadata": {},
   "outputs": [
    {
     "name": "stdout",
     "output_type": "stream",
     "text": [
      "Cost after 0 iterations is : 2.2953189494078186\n",
      "Cost after 10 iterations is : 1.1648507086296762\n",
      "Cost after 20 iterations is : 0.819643598024087\n",
      "Cost after 30 iterations is : 0.6574167476440818\n",
      "Cost after 40 iterations is : 0.560369037788288\n",
      "Cost after 50 iterations is : 0.4940103751664999\n",
      "Cost after 60 iterations is : 0.44480960136515296\n",
      "Cost after 70 iterations is : 0.40634512948095836\n",
      "Cost after 80 iterations is : 0.37515682291998803\n",
      "Cost after 90 iterations is : 0.3491911723943138\n"
     ]
    }
   ],
   "source": [
    "iterations = 100\n",
    "n_h = 1000\n",
    "learning_rate = 0.02\n",
    "w1,b1, w2,b2, cost_list = model(X_train, Y_train, iterations, n_h, learning_rate )"
   ]
  },
  {
   "cell_type": "code",
   "execution_count": 199,
   "id": "b2b56f21",
   "metadata": {},
   "outputs": [],
   "source": [
    "def accuracy(inp, labels, w1,b1, w2,b2):\n",
    "    z1,a1,z2,a2 = forward(inp,labels, w1,b1, w2,b2)\n",
    "    a_out = a2   # containes propabilities with shape(1, 10)\n",
    "    print(a2.shape)\n",
    "    \n",
    "    a_out = np.argmax(a_out, 1)  # 1 represents row wise \n",
    "    \n",
    "    labels = np.argmax(labels, 1)\n",
    "    \n",
    "    acc = np.mean(a_out == labels)*100\n",
    "    \n",
    "    return acc"
   ]
  },
  {
   "cell_type": "code",
   "execution_count": 200,
   "id": "3e58a119",
   "metadata": {},
   "outputs": [
    {
     "name": "stdout",
     "output_type": "stream",
     "text": [
      "(999, 10)\n",
      "Accuracy of Train Dataset 94.29429429429429 %\n",
      "(349, 10)\n",
      "Accuracy of Test Dataset 85.39 %\n"
     ]
    }
   ],
   "source": [
    "print(\"Accuracy of Train Dataset\", accuracy(X_train, Y_train, w1,b1, w2,b2), \"%\")\n",
    "print(\"Accuracy of Test Dataset\", round(accuracy(X_test, Y_test, w1,b1, w2,b2), 2), \"%\")"
   ]
  },
  {
   "cell_type": "code",
   "execution_count": 219,
   "id": "8bb76913",
   "metadata": {},
   "outputs": [
    {
     "data": {
      "image/png": "[encoded data removed]",
      "text/plain": [
       "<Figure size 640x480 with 1 Axes>"
      ]
     },
     "metadata": {},
     "output_type": "display_data"
    },
    {
     "name": "stdout",
     "output_type": "stream",
     "text": [
      "(784,)\n",
      "Our model says it is : 7\n"
     ]
    }
   ],
   "source": [
    "idx = int(random.randrange(0,X_test.shape[0]))\n",
    "plt.imshow(X_test[idx,:].reshape((28,28)),cmap='gray')\n",
    "plt.show()\n",
    "print(X_test[idx, :].shape)\n",
    "z1,a1,z2,a2 = forward( X_test[idx, :].reshape(1, X_test[idx,:].shape[0]),Y_test, w1,b1, w2,b2)\n",
    "a_pred = a2  \n",
    "a_pred = np.argmax(a_pred, 1)\n",
    "\n",
    "print(\"Our model says it is :\", a_pred[0])"
   ]
  },
  {
   "cell_type": "code",
   "execution_count": null,
   "id": "d23cd052",
   "metadata": {},
   "outputs": [],
   "source": []
  }
 ],
 "metadata": {
  "kernelspec": {
   "display_name": "Python 3 (ipykernel)",
   "language": "python",
   "name": "python3"
  },
  "language_info": {
   "codemirror_mode": {
    "name": "ipython",
    "version": 3
   },
   "file_extension": ".py",
   "mimetype": "text/x-python",
   "name": "python",
   "nbconvert_exporter": "python",
   "pygments_lexer": "ipython3",
   "version": "3.9.13"
  }
 },
 "nbformat": 4,
 "nbformat_minor": 5
}
